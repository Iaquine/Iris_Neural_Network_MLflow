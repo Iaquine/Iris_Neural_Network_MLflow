{
 "cells": [
  {
   "cell_type": "code",
   "execution_count": 1,
   "id": "525976ac",
   "metadata": {},
   "outputs": [],
   "source": [
    "# -*- coding: utf-8 -*-\n",
    "\n",
    "# Importação das bibliotecas necessárias\n",
    "import pandas as pd\n",
    "import seaborn as sns\n",
    "import matplotlib.pyplot as plt\n",
    "from sklearn.datasets import load_iris\n",
    "from sklearn.model_selection import train_test_split\n",
    "from sklearn.neural_network import MLPClassifier\n",
    "from sklearn.metrics import accuracy_score, confusion_matrix, classification_report\n",
    "import mlflow\n",
    "import mlflow.sklearn"
   ]
  },
  {
   "cell_type": "code",
   "execution_count": 2,
   "id": "5474e8ce",
   "metadata": {},
   "outputs": [],
   "source": [
    "def carregar_dados_iris():\n",
    "    \"\"\"\n",
    "    Carrega o dataset Iris do scikit-learn.\n",
    "    \"\"\"\n",
    "    iris = load_iris()\n",
    "    X = pd.DataFrame(iris.data, columns=iris.feature_names)\n",
    "    y = pd.Series(iris.target, name='species')\n",
    "    # Para facilitar a visualização, vamos usar os nomes das espécies\n",
    "    nomes_especies = {0: 'setosa', 1: 'versicolor', 2: 'virginica'}\n",
    "    y = y.map(nomes_especies)\n",
    "    return X, y, iris.target_names\n",
    "\n",
    "def gerar_e_salvar_matriz_confusao(y_true, y_pred, target_names, nome_arquivo=\"matriz_confusao.png\"):\n",
    "    \"\"\"\n",
    "    Gera uma Matriz de Confusão usando Seaborn e a salva como um arquivo de imagem.\n",
    "    \"\"\"\n",
    "    cm = confusion_matrix(y_true, y_pred)\n",
    "    plt.figure(figsize=(8, 6))\n",
    "    sns.heatmap(cm, annot=True, fmt='d', cmap='Blues',\n",
    "                xticklabels=target_names, yticklabels=target_names)\n",
    "    plt.xlabel('Previsto')\n",
    "    plt.ylabel('Verdadeiro')\n",
    "    plt.title('Matriz de Confusão')\n",
    "    plt.savefig(nome_arquivo)\n",
    "    plt.close()\n",
    "    print(f\"Matriz de confusão salva como '{nome_arquivo}'\")\n",
    "    return nome_arquivo\n",
    "\n"
   ]
  },
  {
   "cell_type": "code",
   "execution_count": 3,
   "id": "bb9cbce9",
   "metadata": {},
   "outputs": [
    {
     "name": "stderr",
     "output_type": "stream",
     "text": [
      "2025/06/28 16:05:45 INFO mlflow.tracking.fluent: Experiment with name 'Classificacao_Iris_RedeNeural' does not exist. Creating a new experiment.\n"
     ]
    },
    {
     "name": "stdout",
     "output_type": "stream",
     "text": [
      "Iniciando execuções de experimentos com MLflow...\n",
      "Executando: run_layers_(50,)\n"
     ]
    },
    {
     "name": "stderr",
     "output_type": "stream",
     "text": [
      "/opt/anaconda3/lib/python3.12/site-packages/sklearn/neural_network/_multilayer_perceptron.py:690: ConvergenceWarning: Stochastic Optimizer: Maximum iterations (500) reached and the optimization hasn't converged yet.\n",
      "  warnings.warn(\n"
     ]
    },
    {
     "name": "stdout",
     "output_type": "stream",
     "text": [
      "Acurácia para arquitetura (50,): 1.0000\n",
      "Matriz de confusão salva como 'matriz_confusao.png'\n",
      "Artefato 'matriz_confusao.png' registrado.\n",
      "Relatório de classificação registrado.\n"
     ]
    },
    {
     "name": "stderr",
     "output_type": "stream",
     "text": [
      "\u001b[31m2025/06/28 16:05:56 WARNING mlflow.models.model: Model logged without a signature and input example. Please set `input_example` parameter when logging the model to auto infer the model signature.\u001b[0m\n"
     ]
    },
    {
     "name": "stdout",
     "output_type": "stream",
     "text": [
      "----------------------------------------\n",
      "Executando: run_layers_(100,)\n"
     ]
    },
    {
     "name": "stderr",
     "output_type": "stream",
     "text": [
      "/opt/anaconda3/lib/python3.12/site-packages/sklearn/neural_network/_multilayer_perceptron.py:690: ConvergenceWarning: Stochastic Optimizer: Maximum iterations (500) reached and the optimization hasn't converged yet.\n",
      "  warnings.warn(\n"
     ]
    },
    {
     "name": "stdout",
     "output_type": "stream",
     "text": [
      "Acurácia para arquitetura (100,): 0.9778\n",
      "Matriz de confusão salva como 'matriz_confusao.png'\n",
      "Artefato 'matriz_confusao.png' registrado.\n",
      "Relatório de classificação registrado.\n"
     ]
    },
    {
     "name": "stderr",
     "output_type": "stream",
     "text": [
      "\u001b[31m2025/06/28 16:06:02 WARNING mlflow.models.model: Model logged without a signature and input example. Please set `input_example` parameter when logging the model to auto infer the model signature.\u001b[0m\n"
     ]
    },
    {
     "name": "stdout",
     "output_type": "stream",
     "text": [
      "----------------------------------------\n",
      "Executando: run_layers_(50, 50)\n"
     ]
    },
    {
     "name": "stderr",
     "output_type": "stream",
     "text": [
      "/opt/anaconda3/lib/python3.12/site-packages/sklearn/neural_network/_multilayer_perceptron.py:690: ConvergenceWarning: Stochastic Optimizer: Maximum iterations (500) reached and the optimization hasn't converged yet.\n",
      "  warnings.warn(\n"
     ]
    },
    {
     "name": "stdout",
     "output_type": "stream",
     "text": [
      "Acurácia para arquitetura (50, 50): 0.9556\n",
      "Matriz de confusão salva como 'matriz_confusao.png'\n",
      "Artefato 'matriz_confusao.png' registrado.\n",
      "Relatório de classificação registrado.\n"
     ]
    },
    {
     "name": "stderr",
     "output_type": "stream",
     "text": [
      "\u001b[31m2025/06/28 16:06:08 WARNING mlflow.models.model: Model logged without a signature and input example. Please set `input_example` parameter when logging the model to auto infer the model signature.\u001b[0m\n"
     ]
    },
    {
     "name": "stdout",
     "output_type": "stream",
     "text": [
      "----------------------------------------\n",
      "Executando: run_layers_(100, 50, 25)\n"
     ]
    },
    {
     "name": "stderr",
     "output_type": "stream",
     "text": [
      "/opt/anaconda3/lib/python3.12/site-packages/sklearn/neural_network/_multilayer_perceptron.py:690: ConvergenceWarning: Stochastic Optimizer: Maximum iterations (500) reached and the optimization hasn't converged yet.\n",
      "  warnings.warn(\n"
     ]
    },
    {
     "name": "stdout",
     "output_type": "stream",
     "text": [
      "Acurácia para arquitetura (100, 50, 25): 0.9111\n",
      "Matriz de confusão salva como 'matriz_confusao.png'\n",
      "Artefato 'matriz_confusao.png' registrado.\n",
      "Relatório de classificação registrado.\n"
     ]
    },
    {
     "name": "stderr",
     "output_type": "stream",
     "text": [
      "\u001b[31m2025/06/28 16:06:14 WARNING mlflow.models.model: Model logged without a signature and input example. Please set `input_example` parameter when logging the model to auto infer the model signature.\u001b[0m\n"
     ]
    },
    {
     "name": "stdout",
     "output_type": "stream",
     "text": [
      "----------------------------------------\n",
      "Todas as execuções foram concluídas.\n",
      "Para visualizar os resultados, execute 'mlflow ui' no seu terminal.\n"
     ]
    }
   ],
   "source": [
    "# --- Execução Principal e Integração com MLflow ---\n",
    "\n",
    "if __name__ == \"__main__\":\n",
    "    # Carregar os dados\n",
    "    X, y, target_names = carregar_dados_iris()\n",
    "\n",
    "    # Dividir os dados em treino e teste\n",
    "    X_train, X_test, y_train, y_test = train_test_split(X, y, test_size=0.3, random_state=42, stratify=y)\n",
    "\n",
    "    # Definindo o nome do experimento no MLflow\n",
    "    mlflow.set_experiment(\"Classificacao_Iris_RedeNeural\")\n",
    "\n",
    "    # --- Início dos Experimentos ---\n",
    "    # Vamos variar a arquitetura da rede neural\n",
    "    # Cada tupla representa as camadas ocultas e o número de neurônios em cada uma\n",
    "    arquiteturas = [(50,), (100,), (50, 50), (100, 50, 25)]\n",
    "    max_iter_param = 500 # Aumentar o número de iterações para garantir a convergência\n",
    "\n",
    "    print(\"Iniciando execuções de experimentos com MLflow...\")\n",
    "\n",
    "    for hidden_layers in arquiteturas:\n",
    "        with mlflow.start_run():\n",
    "            run_name = f\"run_layers_{hidden_layers}\"\n",
    "            mlflow.set_tag(\"mlflow.runName\", run_name)\n",
    "            print(f\"Executando: {run_name}\")\n",
    "\n",
    "            # Registrando os parâmetros\n",
    "            mlflow.log_param(\"hidden_layer_sizes\", hidden_layers)\n",
    "            mlflow.log_param(\"max_iter\", max_iter_param)\n",
    "            mlflow.log_param(\"random_state\", 42)\n",
    "\n",
    "            # Criando e treinando o modelo de Rede Neural\n",
    "            mlp = MLPClassifier(hidden_layer_sizes=hidden_layers, max_iter=max_iter_param, random_state=42)\n",
    "            mlp.fit(X_train, y_train)\n",
    "\n",
    "            # Realizando as previsões\n",
    "            y_pred = mlp.predict(X_test)\n",
    "\n",
    "            # Calculando e registrando a métrica de acurácia\n",
    "            acuracia = accuracy_score(y_test, y_pred)\n",
    "            print(f\"Acurácia para arquitetura {hidden_layers}: {acuracia:.4f}\")\n",
    "            mlflow.log_metric(\"acuracia\", acuracia)\n",
    "\n",
    "            # Gerando e salvando a matriz de confusão como artefato\n",
    "            caminho_matriz = gerar_e_salvar_matriz_confusao(y_test, y_pred, target_names)\n",
    "            mlflow.log_artifact(caminho_matriz, \"visualizacoes\")\n",
    "            print(f\"Artefato '{caminho_matriz}' registrado.\")\n",
    "\n",
    "            # Opcional: Salvar o relatório de classificação como um arquivo de texto\n",
    "            report = classification_report(y_test, y_pred, target_names=target_names)\n",
    "            mlflow.log_text(report, \"classification_report.txt\")\n",
    "            print(\"Relatório de classificação registrado.\")\n",
    "\n",
    "            # Registrando o modelo\n",
    "            mlflow.sklearn.log_model(mlp, \"mlp_model\")\n",
    "\n",
    "            print(\"-\" * 40)\n",
    "\n",
    "    print(\"Todas as execuções foram concluídas.\")\n",
    "    print(\"Para visualizar os resultados, execute 'mlflow ui' no seu terminal.\")"
   ]
  }
 ],
 "metadata": {
  "kernelspec": {
   "display_name": "base",
   "language": "python",
   "name": "python3"
  },
  "language_info": {
   "codemirror_mode": {
    "name": "ipython",
    "version": 3
   },
   "file_extension": ".py",
   "mimetype": "text/x-python",
   "name": "python",
   "nbconvert_exporter": "python",
   "pygments_lexer": "ipython3",
   "version": "3.12.7"
  }
 },
 "nbformat": 4,
 "nbformat_minor": 5
}
